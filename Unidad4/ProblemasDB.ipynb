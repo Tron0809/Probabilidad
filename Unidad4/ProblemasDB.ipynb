{
  "nbformat": 4,
  "nbformat_minor": 0,
  "metadata": {
    "colab": {
      "provenance": []
    },
    "kernelspec": {
      "name": "python3",
      "display_name": "Python 3"
    },
    "language_info": {
      "name": "python"
    }
  },
  "cells": [
    {
      "cell_type": "code",
      "execution_count": 24,
      "metadata": {
        "id": "Lj2MZbrcyCWJ"
      },
      "outputs": [],
      "source": [
        "import scipy.stats as stats\n",
        "import math\n",
        "def calcular_probabilidad_poisson(media, k):\n",
        "    return math.exp(-media) * (media ** k) / math.factorial(k)"
      ]
    },
    {
      "cell_type": "markdown",
      "source": [
        "###Ejercicio1"
      ],
      "metadata": {
        "id": "6BAPqRJhye4u"
      }
    },
    {
      "cell_type": "code",
      "source": [
        "media = 5\n",
        "k = 2"
      ],
      "metadata": {
        "id": "_CyPgx5hyIH9"
      },
      "execution_count": 25,
      "outputs": []
    },
    {
      "cell_type": "code",
      "source": [
        "probabilidad_exacta_2 = stats.poisson.pmf(k, media)\n",
        "print(f\"La probabilidad de que exactamente 2 personas sean ingresadas es: {probabilidad_exacta_2:.4f}\")"
      ],
      "metadata": {
        "colab": {
          "base_uri": "https://localhost:8080/"
        },
        "id": "GnPqbB45yIMs",
        "outputId": "a0312812-597f-4224-84ee-3441248b7418"
      },
      "execution_count": 26,
      "outputs": [
        {
          "output_type": "stream",
          "name": "stdout",
          "text": [
            "La probabilidad de que exactamente 2 personas sean ingresadas es: 0.0842\n"
          ]
        }
      ]
    },
    {
      "cell_type": "code",
      "source": [
        "probabilidad_mayor_igual_10 = 1 - stats.poisson.cdf(10, media)\n",
        "print(f\"La probabilidad de que X sea mayor o igual a 10 es: {probabilidad_mayor_igual_10:.4f}\")\n"
      ],
      "metadata": {
        "colab": {
          "base_uri": "https://localhost:8080/"
        },
        "id": "Awg-BmUeyLfw",
        "outputId": "aa555f63-f9da-4e60-d29f-9ba077e6a656"
      },
      "execution_count": 27,
      "outputs": [
        {
          "output_type": "stream",
          "name": "stdout",
          "text": [
            "La probabilidad de que X sea mayor o igual a 10 es: 0.0137\n"
          ]
        }
      ]
    },
    {
      "cell_type": "markdown",
      "source": [
        "###Ejercicio 2"
      ],
      "metadata": {
        "id": "UtNZ7rgPyp9t"
      }
    },
    {
      "cell_type": "code",
      "source": [
        "# Datos del problema\n",
        "media = 0.0010005\n",
        "total_motores = 1000\n",
        "\n",
        "\n"
      ],
      "metadata": {
        "id": "8y7XvlYNysHQ"
      },
      "execution_count": 28,
      "outputs": []
    },
    {
      "cell_type": "code",
      "source": [
        "# Probabilidad de que ninguno sea defectuoso\n",
        "probabilidad_ninguno_defectuoso = calcular_probabilidad_poisson(media, 0)\n",
        "print(f\"Probabilidad de que ninguno sea defectuoso: {probabilidad_ninguno_defectuoso:.4f}\")\n",
        "\n"
      ],
      "metadata": {
        "colab": {
          "base_uri": "https://localhost:8080/"
        },
        "id": "rdeGBKDkz6tt",
        "outputId": "3d550eef-dc25-4532-9d2c-05a9da731789"
      },
      "execution_count": 29,
      "outputs": [
        {
          "output_type": "stream",
          "name": "stdout",
          "text": [
            "Probabilidad de que ninguno sea defectuoso: 0.9990\n"
          ]
        }
      ]
    },
    {
      "cell_type": "code",
      "source": [
        "# Probabilidad de que sean 3 defectuosos\n",
        "probabilidad_tres_defectuosos = calcular_probabilidad_poisson(media, 3)\n",
        "print(f\"Probabilidad de que sean 3 defectuosos: {probabilidad_tres_defectuosos:.4f}\")\n",
        "\n"
      ],
      "metadata": {
        "colab": {
          "base_uri": "https://localhost:8080/"
        },
        "id": "et5q5nXH1t-p",
        "outputId": "32d92964-7132-4dee-b46d-70891c103d69"
      },
      "execution_count": 30,
      "outputs": [
        {
          "output_type": "stream",
          "name": "stdout",
          "text": [
            "Probabilidad de que sean 3 defectuosos: 0.0000\n"
          ]
        }
      ]
    },
    {
      "cell_type": "code",
      "source": [
        "# Probabilidad de que cuatro sean defectuosos\n",
        "probabilidad_cuatro_defectuosos = calcular_probabilidad_poisson(media, 4)\n",
        "print(f\"Probabilidad de que cuatro sean defectuosos: {probabilidad_cuatro_defectuosos:.4f}\")\n"
      ],
      "metadata": {
        "colab": {
          "base_uri": "https://localhost:8080/"
        },
        "id": "IqtNLOFm1vmm",
        "outputId": "b56bf7ab-5c3c-41a4-c6b0-7d916a64d92f"
      },
      "execution_count": 31,
      "outputs": [
        {
          "output_type": "stream",
          "name": "stdout",
          "text": [
            "Probabilidad de que cuatro sean defectuosos: 0.0000\n"
          ]
        }
      ]
    },
    {
      "cell_type": "code",
      "source": [],
      "metadata": {
        "id": "yNomUEYk1yPe"
      },
      "execution_count": null,
      "outputs": []
    }
  ]
}