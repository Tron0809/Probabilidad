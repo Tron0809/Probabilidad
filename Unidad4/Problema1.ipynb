{
 "cells": [
  {
   "cell_type": "code",
   "execution_count": 2,
   "metadata": {},
   "outputs": [],
   "source": [
    "import scipy.stats as stats\n",
    "\n"
   ]
  },
  {
   "cell_type": "code",
   "execution_count": 3,
   "metadata": {},
   "outputs": [],
   "source": [
    "# Datos del problema\n",
    "media = 70\n",
    "desviacion_estandar = 4\n",
    "total_estudiantes = 500\n"
   ]
  },
  {
   "cell_type": "code",
   "execution_count": 4,
   "metadata": {},
   "outputs": [],
   "source": [
    "\n",
    "# Calculamos los valores normalizados para 68 y 72 kg\n",
    "z1 = (68 - media) / desviacion_estandar\n",
    "z2 = (72 - media) / desviacion_estandar\n"
   ]
  },
  {
   "cell_type": "code",
   "execution_count": 5,
   "metadata": {},
   "outputs": [],
   "source": [
    "\n",
    "# Probabilidad de estudiantes entre 68 y 72 kg\n",
    "probabilidad_entre_68_y_72 = stats.norm.cdf(z2) - stats.norm.cdf(z1)\n"
   ]
  },
  {
   "cell_type": "code",
   "execution_count": 6,
   "metadata": {},
   "outputs": [],
   "source": [
    "\n",
    "# Cantidad de estudiantes entre 68 y 72 kg\n",
    "estudiantes_entre_68_y_72 = probabilidad_entre_68_y_72 * total_estudiantes\n"
   ]
  },
  {
   "cell_type": "code",
   "execution_count": 7,
   "metadata": {},
   "outputs": [
    {
     "name": "stdout",
     "output_type": "stream",
     "text": [
      "Probabilidad de estudiantes entre 68 y 72 kg: 0.3829\n",
      "Cantidad de estudiantes entre 68 y 72 kg: 191\n",
      "Cantidad de estudiantes más de 68 y menos de 72 kg: 308\n"
     ]
    }
   ],
   "source": [
    "\n",
    "# Cantidad de estudiantes más de 68 y menos de 72 kg\n",
    "estudiantes_mas_68_menos_72 = total_estudiantes - estudiantes_entre_68_y_72\n",
    "\n",
    "print(f\"Probabilidad de estudiantes entre 68 y 72 kg: {probabilidad_entre_68_y_72:.4f}\")\n",
    "print(f\"Cantidad de estudiantes entre 68 y 72 kg: {int(estudiantes_entre_68_y_72)}\")\n",
    "print(f\"Cantidad de estudiantes más de 68 y menos de 72 kg: {int(estudiantes_mas_68_menos_72)}\")"
   ]
  },
  {
   "cell_type": "code",
   "execution_count": null,
   "metadata": {},
   "outputs": [],
   "source": []
  }
 ],
 "metadata": {
  "kernelspec": {
   "display_name": "Python 3",
   "language": "python",
   "name": "python3"
  },
  "language_info": {
   "codemirror_mode": {
    "name": "ipython",
    "version": 3
   },
   "file_extension": ".py",
   "mimetype": "text/x-python",
   "name": "python",
   "nbconvert_exporter": "python",
   "pygments_lexer": "ipython3",
   "version": "3.8.5"
  }
 },
 "nbformat": 4,
 "nbformat_minor": 4
}
