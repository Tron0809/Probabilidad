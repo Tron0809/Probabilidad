{
 "cells": [
  {
   "cell_type": "code",
   "execution_count": 1,
   "metadata": {},
   "outputs": [],
   "source": [
    "import pandas as pd\n",
    "import matplotlib as plt\n",
    "import seaborn as sns \n",
    "from matplotlib import pyplot"
   ]
  },
  {
   "cell_type": "code",
   "execution_count": 2,
   "metadata": {},
   "outputs": [],
   "source": [
    "covid = pd.read_csv(\"20-06-30-COVID19MEXICO - codificado.csv\")\n"
   ]
  },
  {
   "cell_type": "code",
   "execution_count": 3,
   "metadata": {},
   "outputs": [
    {
     "data": {
      "text/html": [
       "<div>\n",
       "<style scoped>\n",
       "    .dataframe tbody tr th:only-of-type {\n",
       "        vertical-align: middle;\n",
       "    }\n",
       "\n",
       "    .dataframe tbody tr th {\n",
       "        vertical-align: top;\n",
       "    }\n",
       "\n",
       "    .dataframe thead th {\n",
       "        text-align: right;\n",
       "    }\n",
       "</style>\n",
       "<table border=\"1\" class=\"dataframe\">\n",
       "  <thead>\n",
       "    <tr style=\"text-align: right;\">\n",
       "      <th></th>\n",
       "      <th>ORIGEN</th>\n",
       "      <th>SECTOR</th>\n",
       "      <th>SEXO</th>\n",
       "      <th>ENTIDAD_NAC</th>\n",
       "      <th>TIPO_PACIENTE</th>\n",
       "      <th>FECHA_INGRESO</th>\n",
       "      <th>FECHA_SINTOMAS</th>\n",
       "      <th>FECHA_DEF</th>\n",
       "      <th>INTUBADO</th>\n",
       "      <th>NEUMONIA</th>\n",
       "      <th>...</th>\n",
       "      <th>EPOC</th>\n",
       "      <th>ASMA</th>\n",
       "      <th>INMUSUPR</th>\n",
       "      <th>HIPERTENSION</th>\n",
       "      <th>CARDIOVASCULAR</th>\n",
       "      <th>OBESIDAD</th>\n",
       "      <th>RENAL_CRONICA</th>\n",
       "      <th>TABAQUISMO</th>\n",
       "      <th>RESULTADO</th>\n",
       "      <th>UCI</th>\n",
       "    </tr>\n",
       "  </thead>\n",
       "  <tbody>\n",
       "    <tr>\n",
       "      <th>0</th>\n",
       "      <td>1</td>\n",
       "      <td>4</td>\n",
       "      <td>Hombre</td>\n",
       "      <td>Zacatecas</td>\n",
       "      <td>Hospitalizado</td>\n",
       "      <td>27/03/2020</td>\n",
       "      <td>27/03/2020</td>\n",
       "      <td>9999-99-99</td>\n",
       "      <td>No</td>\n",
       "      <td>No</td>\n",
       "      <td>...</td>\n",
       "      <td>No</td>\n",
       "      <td>No</td>\n",
       "      <td>No</td>\n",
       "      <td>No</td>\n",
       "      <td>No</td>\n",
       "      <td>No</td>\n",
       "      <td>No</td>\n",
       "      <td>No</td>\n",
       "      <td>Negativo</td>\n",
       "      <td>No</td>\n",
       "    </tr>\n",
       "    <tr>\n",
       "      <th>1</th>\n",
       "      <td>1</td>\n",
       "      <td>12</td>\n",
       "      <td>Hombre</td>\n",
       "      <td>Zacatecas</td>\n",
       "      <td>Hospitalizado</td>\n",
       "      <td>06/04/2020</td>\n",
       "      <td>02/04/2020</td>\n",
       "      <td>9999-99-99</td>\n",
       "      <td>No</td>\n",
       "      <td>Si</td>\n",
       "      <td>...</td>\n",
       "      <td>No</td>\n",
       "      <td>No</td>\n",
       "      <td>No</td>\n",
       "      <td>No</td>\n",
       "      <td>No</td>\n",
       "      <td>No</td>\n",
       "      <td>No</td>\n",
       "      <td>No</td>\n",
       "      <td>Negativo</td>\n",
       "      <td>No</td>\n",
       "    </tr>\n",
       "    <tr>\n",
       "      <th>2</th>\n",
       "      <td>1</td>\n",
       "      <td>12</td>\n",
       "      <td>Mujer</td>\n",
       "      <td>Zacatecas</td>\n",
       "      <td>Hospitalizado</td>\n",
       "      <td>15/04/2020</td>\n",
       "      <td>12/04/2020</td>\n",
       "      <td>9999-99-99</td>\n",
       "      <td>No</td>\n",
       "      <td>Si</td>\n",
       "      <td>...</td>\n",
       "      <td>No</td>\n",
       "      <td>No</td>\n",
       "      <td>Si</td>\n",
       "      <td>No</td>\n",
       "      <td>No</td>\n",
       "      <td>No</td>\n",
       "      <td>No</td>\n",
       "      <td>No</td>\n",
       "      <td>Negativo</td>\n",
       "      <td>No</td>\n",
       "    </tr>\n",
       "    <tr>\n",
       "      <th>3</th>\n",
       "      <td>2</td>\n",
       "      <td>12</td>\n",
       "      <td>Mujer</td>\n",
       "      <td>Zacatecas</td>\n",
       "      <td>Hospitalizado</td>\n",
       "      <td>08/05/2020</td>\n",
       "      <td>08/05/2020</td>\n",
       "      <td>9999-99-99</td>\n",
       "      <td>Si</td>\n",
       "      <td>No</td>\n",
       "      <td>...</td>\n",
       "      <td>No</td>\n",
       "      <td>No</td>\n",
       "      <td>No</td>\n",
       "      <td>No</td>\n",
       "      <td>No</td>\n",
       "      <td>No</td>\n",
       "      <td>No</td>\n",
       "      <td>No</td>\n",
       "      <td>Negativo</td>\n",
       "      <td>Si</td>\n",
       "    </tr>\n",
       "    <tr>\n",
       "      <th>4</th>\n",
       "      <td>2</td>\n",
       "      <td>12</td>\n",
       "      <td>Mujer</td>\n",
       "      <td>Zacatecas</td>\n",
       "      <td>Hospitalizado</td>\n",
       "      <td>08/05/2020</td>\n",
       "      <td>08/05/2020</td>\n",
       "      <td>9999-99-99</td>\n",
       "      <td>Si</td>\n",
       "      <td>No</td>\n",
       "      <td>...</td>\n",
       "      <td>No</td>\n",
       "      <td>No</td>\n",
       "      <td>No</td>\n",
       "      <td>No</td>\n",
       "      <td>No</td>\n",
       "      <td>No</td>\n",
       "      <td>No</td>\n",
       "      <td>No</td>\n",
       "      <td>Negativo</td>\n",
       "      <td>Si</td>\n",
       "    </tr>\n",
       "    <tr>\n",
       "      <th>...</th>\n",
       "      <td>...</td>\n",
       "      <td>...</td>\n",
       "      <td>...</td>\n",
       "      <td>...</td>\n",
       "      <td>...</td>\n",
       "      <td>...</td>\n",
       "      <td>...</td>\n",
       "      <td>...</td>\n",
       "      <td>...</td>\n",
       "      <td>...</td>\n",
       "      <td>...</td>\n",
       "      <td>...</td>\n",
       "      <td>...</td>\n",
       "      <td>...</td>\n",
       "      <td>...</td>\n",
       "      <td>...</td>\n",
       "      <td>...</td>\n",
       "      <td>...</td>\n",
       "      <td>...</td>\n",
       "      <td>...</td>\n",
       "      <td>...</td>\n",
       "    </tr>\n",
       "    <tr>\n",
       "      <th>496440</th>\n",
       "      <td>2</td>\n",
       "      <td>12</td>\n",
       "      <td>Hombre</td>\n",
       "      <td>Nuevo León</td>\n",
       "      <td>Hospitalizado</td>\n",
       "      <td>26/05/2020</td>\n",
       "      <td>25/05/2020</td>\n",
       "      <td>9999-99-99</td>\n",
       "      <td>No</td>\n",
       "      <td>Si</td>\n",
       "      <td>...</td>\n",
       "      <td>No</td>\n",
       "      <td>No</td>\n",
       "      <td>No</td>\n",
       "      <td>No</td>\n",
       "      <td>No</td>\n",
       "      <td>No</td>\n",
       "      <td>No</td>\n",
       "      <td>No</td>\n",
       "      <td>Negativo</td>\n",
       "      <td>No</td>\n",
       "    </tr>\n",
       "    <tr>\n",
       "      <th>496441</th>\n",
       "      <td>2</td>\n",
       "      <td>12</td>\n",
       "      <td>Mujer</td>\n",
       "      <td>Coahuila</td>\n",
       "      <td>Ambulatorio</td>\n",
       "      <td>05/06/2020</td>\n",
       "      <td>01/06/2020</td>\n",
       "      <td>9999-99-99</td>\n",
       "      <td>No aplica</td>\n",
       "      <td>No</td>\n",
       "      <td>...</td>\n",
       "      <td>No</td>\n",
       "      <td>No</td>\n",
       "      <td>No</td>\n",
       "      <td>No</td>\n",
       "      <td>No</td>\n",
       "      <td>No</td>\n",
       "      <td>No</td>\n",
       "      <td>No</td>\n",
       "      <td>Negativo</td>\n",
       "      <td>No aplica</td>\n",
       "    </tr>\n",
       "    <tr>\n",
       "      <th>496442</th>\n",
       "      <td>2</td>\n",
       "      <td>12</td>\n",
       "      <td>Hombre</td>\n",
       "      <td>Tamaulipas</td>\n",
       "      <td>Ambulatorio</td>\n",
       "      <td>11/06/2020</td>\n",
       "      <td>10/06/2020</td>\n",
       "      <td>9999-99-99</td>\n",
       "      <td>No aplica</td>\n",
       "      <td>No</td>\n",
       "      <td>...</td>\n",
       "      <td>No</td>\n",
       "      <td>No</td>\n",
       "      <td>No</td>\n",
       "      <td>No</td>\n",
       "      <td>No</td>\n",
       "      <td>No</td>\n",
       "      <td>No</td>\n",
       "      <td>No</td>\n",
       "      <td>Negativo</td>\n",
       "      <td>No aplica</td>\n",
       "    </tr>\n",
       "    <tr>\n",
       "      <th>496443</th>\n",
       "      <td>2</td>\n",
       "      <td>12</td>\n",
       "      <td>Hombre</td>\n",
       "      <td>Sinaloa</td>\n",
       "      <td>Ambulatorio</td>\n",
       "      <td>19/06/2020</td>\n",
       "      <td>19/06/2020</td>\n",
       "      <td>9999-99-99</td>\n",
       "      <td>No aplica</td>\n",
       "      <td>No</td>\n",
       "      <td>...</td>\n",
       "      <td>No</td>\n",
       "      <td>No</td>\n",
       "      <td>No</td>\n",
       "      <td>No</td>\n",
       "      <td>No</td>\n",
       "      <td>No</td>\n",
       "      <td>No</td>\n",
       "      <td>No</td>\n",
       "      <td>Negativo</td>\n",
       "      <td>No aplica</td>\n",
       "    </tr>\n",
       "    <tr>\n",
       "      <th>496444</th>\n",
       "      <td>2</td>\n",
       "      <td>12</td>\n",
       "      <td>Hombre</td>\n",
       "      <td>México</td>\n",
       "      <td>Ambulatorio</td>\n",
       "      <td>05/06/2020</td>\n",
       "      <td>30/05/2020</td>\n",
       "      <td>9999-99-99</td>\n",
       "      <td>No aplica</td>\n",
       "      <td>No</td>\n",
       "      <td>...</td>\n",
       "      <td>No</td>\n",
       "      <td>No</td>\n",
       "      <td>No</td>\n",
       "      <td>No</td>\n",
       "      <td>No</td>\n",
       "      <td>No</td>\n",
       "      <td>No</td>\n",
       "      <td>Si</td>\n",
       "      <td>Negativo</td>\n",
       "      <td>No aplica</td>\n",
       "    </tr>\n",
       "  </tbody>\n",
       "</table>\n",
       "<p>496445 rows × 23 columns</p>\n",
       "</div>"
      ],
      "text/plain": [
       "        ORIGEN  SECTOR    SEXO ENTIDAD_NAC  TIPO_PACIENTE FECHA_INGRESO  \\\n",
       "0            1       4  Hombre   Zacatecas  Hospitalizado    27/03/2020   \n",
       "1            1      12  Hombre   Zacatecas  Hospitalizado    06/04/2020   \n",
       "2            1      12   Mujer   Zacatecas  Hospitalizado    15/04/2020   \n",
       "3            2      12   Mujer   Zacatecas  Hospitalizado    08/05/2020   \n",
       "4            2      12   Mujer   Zacatecas  Hospitalizado    08/05/2020   \n",
       "...        ...     ...     ...         ...            ...           ...   \n",
       "496440       2      12  Hombre  Nuevo León  Hospitalizado    26/05/2020   \n",
       "496441       2      12   Mujer    Coahuila    Ambulatorio    05/06/2020   \n",
       "496442       2      12  Hombre  Tamaulipas    Ambulatorio    11/06/2020   \n",
       "496443       2      12  Hombre     Sinaloa    Ambulatorio    19/06/2020   \n",
       "496444       2      12  Hombre      México    Ambulatorio    05/06/2020   \n",
       "\n",
       "       FECHA_SINTOMAS   FECHA_DEF   INTUBADO NEUMONIA  ...  EPOC ASMA  \\\n",
       "0          27/03/2020  9999-99-99         No       No  ...    No   No   \n",
       "1          02/04/2020  9999-99-99         No       Si  ...    No   No   \n",
       "2          12/04/2020  9999-99-99         No       Si  ...    No   No   \n",
       "3          08/05/2020  9999-99-99         Si       No  ...    No   No   \n",
       "4          08/05/2020  9999-99-99         Si       No  ...    No   No   \n",
       "...               ...         ...        ...      ...  ...   ...  ...   \n",
       "496440     25/05/2020  9999-99-99         No       Si  ...    No   No   \n",
       "496441     01/06/2020  9999-99-99  No aplica       No  ...    No   No   \n",
       "496442     10/06/2020  9999-99-99  No aplica       No  ...    No   No   \n",
       "496443     19/06/2020  9999-99-99  No aplica       No  ...    No   No   \n",
       "496444     30/05/2020  9999-99-99  No aplica       No  ...    No   No   \n",
       "\n",
       "       INMUSUPR HIPERTENSION CARDIOVASCULAR OBESIDAD RENAL_CRONICA TABAQUISMO  \\\n",
       "0            No           No             No       No            No         No   \n",
       "1            No           No             No       No            No         No   \n",
       "2            Si           No             No       No            No         No   \n",
       "3            No           No             No       No            No         No   \n",
       "4            No           No             No       No            No         No   \n",
       "...         ...          ...            ...      ...           ...        ...   \n",
       "496440       No           No             No       No            No         No   \n",
       "496441       No           No             No       No            No         No   \n",
       "496442       No           No             No       No            No         No   \n",
       "496443       No           No             No       No            No         No   \n",
       "496444       No           No             No       No            No         Si   \n",
       "\n",
       "       RESULTADO        UCI  \n",
       "0       Negativo         No  \n",
       "1       Negativo         No  \n",
       "2       Negativo         No  \n",
       "3       Negativo         Si  \n",
       "4       Negativo         Si  \n",
       "...          ...        ...  \n",
       "496440  Negativo         No  \n",
       "496441  Negativo  No aplica  \n",
       "496442  Negativo  No aplica  \n",
       "496443  Negativo  No aplica  \n",
       "496444  Negativo  No aplica  \n",
       "\n",
       "[496445 rows x 23 columns]"
      ]
     },
     "execution_count": 3,
     "metadata": {},
     "output_type": "execute_result"
    }
   ],
   "source": [
    "covid"
   ]
  },
  {
   "cell_type": "code",
   "execution_count": 4,
   "metadata": {},
   "outputs": [
    {
     "data": {
      "text/plain": [
       "0"
      ]
     },
     "execution_count": 4,
     "metadata": {},
     "output_type": "execute_result"
    }
   ],
   "source": [
    "covid.EDAD.min()"
   ]
  },
  {
   "cell_type": "code",
   "execution_count": 5,
   "metadata": {},
   "outputs": [
    {
     "data": {
      "text/plain": [
       "120"
      ]
     },
     "execution_count": 5,
     "metadata": {},
     "output_type": "execute_result"
    }
   ],
   "source": [
    "covid.EDAD.max()"
   ]
  },
  {
   "cell_type": "code",
   "execution_count": 7,
   "metadata": {},
   "outputs": [
    {
     "data": {
      "text/plain": [
       "42.84903262194201"
      ]
     },
     "execution_count": 7,
     "metadata": {},
     "output_type": "execute_result"
    }
   ],
   "source": [
    "covid.EDAD.mean()"
   ]
  },
  {
   "cell_type": "markdown",
   "metadata": {},
   "source": []
  },
  {
   "cell_type": "code",
   "execution_count": 8,
   "metadata": {},
   "outputs": [
    {
     "data": {
      "text/html": [
       "<div>\n",
       "<style scoped>\n",
       "    .dataframe tbody tr th:only-of-type {\n",
       "        vertical-align: middle;\n",
       "    }\n",
       "\n",
       "    .dataframe tbody tr th {\n",
       "        vertical-align: top;\n",
       "    }\n",
       "\n",
       "    .dataframe thead th {\n",
       "        text-align: right;\n",
       "    }\n",
       "</style>\n",
       "<table border=\"1\" class=\"dataframe\">\n",
       "  <thead>\n",
       "    <tr style=\"text-align: right;\">\n",
       "      <th></th>\n",
       "      <th>ORIGEN</th>\n",
       "      <th>SECTOR</th>\n",
       "      <th>EDAD</th>\n",
       "    </tr>\n",
       "  </thead>\n",
       "  <tbody>\n",
       "    <tr>\n",
       "      <th>count</th>\n",
       "      <td>496445.000000</td>\n",
       "      <td>496445.000000</td>\n",
       "      <td>496445.000000</td>\n",
       "    </tr>\n",
       "    <tr>\n",
       "      <th>mean</th>\n",
       "      <td>1.637096</td>\n",
       "      <td>9.722994</td>\n",
       "      <td>42.849033</td>\n",
       "    </tr>\n",
       "    <tr>\n",
       "      <th>std</th>\n",
       "      <td>0.480838</td>\n",
       "      <td>8.279031</td>\n",
       "      <td>16.774223</td>\n",
       "    </tr>\n",
       "    <tr>\n",
       "      <th>min</th>\n",
       "      <td>1.000000</td>\n",
       "      <td>1.000000</td>\n",
       "      <td>0.000000</td>\n",
       "    </tr>\n",
       "    <tr>\n",
       "      <th>25%</th>\n",
       "      <td>1.000000</td>\n",
       "      <td>4.000000</td>\n",
       "      <td>31.000000</td>\n",
       "    </tr>\n",
       "    <tr>\n",
       "      <th>50%</th>\n",
       "      <td>2.000000</td>\n",
       "      <td>12.000000</td>\n",
       "      <td>41.000000</td>\n",
       "    </tr>\n",
       "    <tr>\n",
       "      <th>75%</th>\n",
       "      <td>2.000000</td>\n",
       "      <td>12.000000</td>\n",
       "      <td>54.000000</td>\n",
       "    </tr>\n",
       "    <tr>\n",
       "      <th>max</th>\n",
       "      <td>2.000000</td>\n",
       "      <td>99.000000</td>\n",
       "      <td>120.000000</td>\n",
       "    </tr>\n",
       "  </tbody>\n",
       "</table>\n",
       "</div>"
      ],
      "text/plain": [
       "              ORIGEN         SECTOR           EDAD\n",
       "count  496445.000000  496445.000000  496445.000000\n",
       "mean        1.637096       9.722994      42.849033\n",
       "std         0.480838       8.279031      16.774223\n",
       "min         1.000000       1.000000       0.000000\n",
       "25%         1.000000       4.000000      31.000000\n",
       "50%         2.000000      12.000000      41.000000\n",
       "75%         2.000000      12.000000      54.000000\n",
       "max         2.000000      99.000000     120.000000"
      ]
     },
     "execution_count": 8,
     "metadata": {},
     "output_type": "execute_result"
    }
   ],
   "source": [
    "covid.describe()"
   ]
  },
  {
   "cell_type": "code",
   "execution_count": 9,
   "metadata": {},
   "outputs": [
    {
     "name": "stdout",
     "output_type": "stream",
     "text": [
      "<class 'pandas.core.frame.DataFrame'>\n",
      "RangeIndex: 496445 entries, 0 to 496444\n",
      "Data columns (total 23 columns):\n",
      " #   Column          Non-Null Count   Dtype \n",
      "---  ------          --------------   ----- \n",
      " 0   ORIGEN          496445 non-null  int64 \n",
      " 1   SECTOR          496445 non-null  int64 \n",
      " 2   SEXO            496445 non-null  object\n",
      " 3   ENTIDAD_NAC     496445 non-null  object\n",
      " 4   TIPO_PACIENTE   496445 non-null  object\n",
      " 5   FECHA_INGRESO   496445 non-null  object\n",
      " 6   FECHA_SINTOMAS  496445 non-null  object\n",
      " 7   FECHA_DEF       496445 non-null  object\n",
      " 8   INTUBADO        496445 non-null  object\n",
      " 9   NEUMONIA        496445 non-null  object\n",
      " 10  EDAD            496445 non-null  int64 \n",
      " 11  EMBARAZO        496445 non-null  object\n",
      " 12  DIABETES        496445 non-null  object\n",
      " 13  EPOC            496445 non-null  object\n",
      " 14  ASMA            496445 non-null  object\n",
      " 15  INMUSUPR        496445 non-null  object\n",
      " 16  HIPERTENSION    496445 non-null  object\n",
      " 17  CARDIOVASCULAR  496445 non-null  object\n",
      " 18  OBESIDAD        496445 non-null  object\n",
      " 19  RENAL_CRONICA   496445 non-null  object\n",
      " 20  TABAQUISMO      496445 non-null  object\n",
      " 21  RESULTADO       496445 non-null  object\n",
      " 22  UCI             496445 non-null  object\n",
      "dtypes: int64(3), object(20)\n",
      "memory usage: 87.1+ MB\n"
     ]
    }
   ],
   "source": [
    "#Me da informacion del tipo de variable de cada columna \n",
    "#Proporciona informacion sobre valores nulos \n",
    "covid.info()"
   ]
  },
  {
   "cell_type": "code",
   "execution_count": 10,
   "metadata": {},
   "outputs": [
    {
     "data": {
      "text/plain": [
       "Text(0, 0.5, 'Frecuencias')"
      ]
     },
     "execution_count": 10,
     "metadata": {},
     "output_type": "execute_result"
    },
    {
     "data": {
      "image/png": "[encoded data removed]",
      "text/plain": [
       "<Figure size 432x288 with 1 Axes>"
      ]
     },
     "metadata": {
      "needs_background": "light"
     },
     "output_type": "display_data"
    }
   ],
   "source": [
    "plt.pyplot.hist(covid.EDAD,bins=24)\n",
    "plt.pyplot.title(\"Histograma de pruebas realizadas por covid\")\n",
    "plt.pyplot.xlabel(\"Edad\")\n",
    "plt.pyplot.ylabel(\"Frecuencias\")"
   ]
  },
  {
   "cell_type": "code",
   "execution_count": 11,
   "metadata": {},
   "outputs": [
    {
     "data": {
      "text/plain": [
       "Text(0, 0.5, 'Frecuencia')"
      ]
     },
     "execution_count": 11,
     "metadata": {},
     "output_type": "execute_result"
    },
    {
     "data": {
      "image/png": "[encoded data removed]",
      "text/plain": [
       "<Figure size 432x288 with 1 Axes>"
      ]
     },
     "metadata": {
      "needs_background": "light"
     },
     "output_type": "display_data"
    }
   ],
   "source": [
    "plt.pyplot.hist(covid.TIPO_PACIENTE,bins=3)\n",
    "plt.pyplot.title(\"Histograma de pruebas realizadas por covid\")\n",
    "plt.pyplot.xlabel(\"Tipo de paciente\")\n",
    "plt.pyplot.ylabel(\"Frecuencia\")"
   ]
  },
  {
   "cell_type": "code",
   "execution_count": 12,
   "metadata": {},
   "outputs": [
    {
     "data": {
      "text/plain": [
       "Text(0, 0.5, 'Frecuencia')"
      ]
     },
     "execution_count": 12,
     "metadata": {},
     "output_type": "execute_result"
    },
    {
     "data": {
      "image/png": "[encoded data removed]",
      "text/plain": [
       "<Figure size 432x288 with 1 Axes>"
      ]
     },
     "metadata": {
      "needs_background": "light"
     },
     "output_type": "display_data"
    }
   ],
   "source": [
    "plt.pyplot.hist(covid.SEXO,bins=3)\n",
    "plt.pyplot.title(\"Histograma de pruebas realizadas por Genero\")\n",
    "plt.pyplot.xlabel(\"Genero o sexo\")\n",
    "plt.pyplot.ylabel(\"Frecuencia\")"
   ]
  },
  {
   "cell_type": "code",
   "execution_count": 13,
   "metadata": {},
   "outputs": [
    {
     "data": {
      "text/plain": [
       "<AxesSubplot:xlabel='SEXO', ylabel='EDAD'>"
      ]
     },
     "execution_count": 13,
     "metadata": {},
     "output_type": "execute_result"
    },
    {
     "data": {
      "image/png": "[encoded data removed]",
      "text/plain": [
       "<Figure size 432x288 with 1 Axes>"
      ]
     },
     "metadata": {
      "needs_background": "light"
     },
     "output_type": "display_data"
    }
   ],
   "source": [
    "sns.boxplot(x=\"SEXO\", y=\"EDAD\",data=covid)"
   ]
  },
  {
   "cell_type": "code",
   "execution_count": null,
   "metadata": {},
   "outputs": [],
   "source": []
  }
 ],
 "metadata": {
  "kernelspec": {
   "display_name": "Python 3",
   "language": "python",
   "name": "python3"
  },
  "language_info": {
   "codemirror_mode": {
    "name": "ipython",
    "version": 3
   },
   "file_extension": ".py",
   "mimetype": "text/x-python",
   "name": "python",
   "nbconvert_exporter": "python",
   "pygments_lexer": "ipython3",
   "version": "3.8.5"
  }
 },
 "nbformat": 4,
 "nbformat_minor": 4
}
