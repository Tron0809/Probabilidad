{
  "nbformat": 4,
  "nbformat_minor": 0,
  "metadata": {
    "colab": {
      "provenance": []
    },
    "kernelspec": {
      "name": "python3",
      "display_name": "Python 3"
    },
    "language_info": {
      "name": "python"
    }
  },
  "cells": [
    {
      "cell_type": "code",
      "execution_count": 1,
      "metadata": {
        "id": "r5rwEhakuntn"
      },
      "outputs": [],
      "source": [
        "from statistics import *#Celda1"
      ]
    },
    {
      "cell_type": "code",
      "source": [
        "#Celda2\n",
        "#Lista de calificaciones del grupo a de probabilidad de estadistica\n",
        "grupoa = [70,70,65,90,100,95,45,80,73,20,100,96]\n",
        "#Lista de calificaciones del grupo a de probabilidad de estadistica\n",
        "print(grupoa)\n",
        "\n"
      ],
      "metadata": {
        "colab": {
          "base_uri": "https://localhost:8080/"
        },
        "id": "Oh0jZDBkyV13",
        "outputId": "75ee8975-fbf9-4483-c464-4ad1a155e7bd"
      },
      "execution_count": 2,
      "outputs": [
        {
          "output_type": "stream",
          "name": "stdout",
          "text": [
            "[70, 70, 65, 90, 100, 95, 45, 80, 73, 20, 100, 96]\n"
          ]
        }
      ]
    },
    {
      "cell_type": "code",
      "source": [
        "# La funcion type nos devulve el tipo de dato de la variable\n",
        "type(grupoa)"
      ],
      "metadata": {
        "colab": {
          "base_uri": "https://localhost:8080/"
        },
        "id": "ohDWuXXI2be7",
        "outputId": "8516856f-6940-45bc-801a-a5a173733bcd"
      },
      "execution_count": 6,
      "outputs": [
        {
          "output_type": "execute_result",
          "data": {
            "text/plain": [
              "list"
            ]
          },
          "metadata": {},
          "execution_count": 6
        }
      ]
    },
    {
      "cell_type": "code",
      "source": [
        "#Celda3\n",
        "#Sacar la media de la formula\n",
        "promedio = sum(grupoa) / len(grupoa)\n",
        "print(promedio)"
      ],
      "metadata": {
        "colab": {
          "base_uri": "https://localhost:8080/"
        },
        "id": "0O0hfIL_xe1q",
        "outputId": "eb53c696-6f9b-4f74-cda6-94e25d3c121d"
      },
      "execution_count": 3,
      "outputs": [
        {
          "output_type": "stream",
          "name": "stdout",
          "text": [
            "75.33333333333333\n"
          ]
        }
      ]
    },
    {
      "cell_type": "code",
      "source": [
        "#Utilizar la funcion mean que esta en la libreria\n",
        "#El promedio\n",
        "promedio2= mean (grupoa)\n",
        "print(promedio2)"
      ],
      "metadata": {
        "colab": {
          "base_uri": "https://localhost:8080/"
        },
        "id": "6msG_gm3ydUQ",
        "outputId": "0ca7e2a8-4a29-4a15-9522-6cd9193535b3"
      },
      "execution_count": 4,
      "outputs": [
        {
          "output_type": "stream",
          "name": "stdout",
          "text": [
            "75.33333333333333\n"
          ]
        }
      ]
    },
    {
      "cell_type": "code",
      "source": [],
      "metadata": {
        "id": "Lxz3R3abzCru"
      },
      "execution_count": 4,
      "outputs": []
    }
  ]
}